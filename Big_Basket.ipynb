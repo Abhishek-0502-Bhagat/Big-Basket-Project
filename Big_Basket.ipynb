{
 "cells": [
  {
   "cell_type": "code",
   "execution_count": 28,
   "id": "176b085d-393f-4300-a213-ed7a2ef89b8e",
   "metadata": {},
   "outputs": [],
   "source": [
    "import pandas as pd\n",
    "import seaborn as sns\n",
    "import matplotlib.pyplot as plt"
   ]
  },
  {
   "cell_type": "code",
   "execution_count": 3,
   "id": "7580944e-be4a-4ea6-8bff-1f7ef2ee425e",
   "metadata": {},
   "outputs": [],
   "source": [
    "df = pd.read_csv('Downloads/BigBasket Products.csv')"
   ]
  },
  {
   "cell_type": "code",
   "execution_count": 4,
   "id": "5dc70a5e-909b-4076-aa82-c58fb187ade0",
   "metadata": {},
   "outputs": [
    {
     "data": {
      "text/html": [
       "<div>\n",
       "<style scoped>\n",
       "    .dataframe tbody tr th:only-of-type {\n",
       "        vertical-align: middle;\n",
       "    }\n",
       "\n",
       "    .dataframe tbody tr th {\n",
       "        vertical-align: top;\n",
       "    }\n",
       "\n",
       "    .dataframe thead th {\n",
       "        text-align: right;\n",
       "    }\n",
       "</style>\n",
       "<table border=\"1\" class=\"dataframe\">\n",
       "  <thead>\n",
       "    <tr style=\"text-align: right;\">\n",
       "      <th></th>\n",
       "      <th>index</th>\n",
       "      <th>product</th>\n",
       "      <th>category</th>\n",
       "      <th>sub_category</th>\n",
       "      <th>brand</th>\n",
       "      <th>sale_price</th>\n",
       "      <th>market_price</th>\n",
       "      <th>type</th>\n",
       "      <th>rating</th>\n",
       "      <th>description</th>\n",
       "    </tr>\n",
       "  </thead>\n",
       "  <tbody>\n",
       "    <tr>\n",
       "      <th>0</th>\n",
       "      <td>1</td>\n",
       "      <td>Garlic Oil - Vegetarian Capsule 500 mg</td>\n",
       "      <td>Beauty &amp; Hygiene</td>\n",
       "      <td>Hair Care</td>\n",
       "      <td>Sri Sri Ayurveda</td>\n",
       "      <td>220.0</td>\n",
       "      <td>220.0</td>\n",
       "      <td>Hair Oil &amp; Serum</td>\n",
       "      <td>4.1</td>\n",
       "      <td>This Product contains Garlic Oil that is known...</td>\n",
       "    </tr>\n",
       "    <tr>\n",
       "      <th>1</th>\n",
       "      <td>2</td>\n",
       "      <td>Water Bottle - Orange</td>\n",
       "      <td>Kitchen, Garden &amp; Pets</td>\n",
       "      <td>Storage &amp; Accessories</td>\n",
       "      <td>Mastercook</td>\n",
       "      <td>180.0</td>\n",
       "      <td>180.0</td>\n",
       "      <td>Water &amp; Fridge Bottles</td>\n",
       "      <td>2.3</td>\n",
       "      <td>Each product is microwave safe (without lid), ...</td>\n",
       "    </tr>\n",
       "    <tr>\n",
       "      <th>2</th>\n",
       "      <td>3</td>\n",
       "      <td>Brass Angle Deep - Plain, No.2</td>\n",
       "      <td>Cleaning &amp; Household</td>\n",
       "      <td>Pooja Needs</td>\n",
       "      <td>Trm</td>\n",
       "      <td>119.0</td>\n",
       "      <td>250.0</td>\n",
       "      <td>Lamp &amp; Lamp Oil</td>\n",
       "      <td>3.4</td>\n",
       "      <td>A perfect gift for all occasions, be it your m...</td>\n",
       "    </tr>\n",
       "    <tr>\n",
       "      <th>3</th>\n",
       "      <td>4</td>\n",
       "      <td>Cereal Flip Lid Container/Storage Jar - Assort...</td>\n",
       "      <td>Cleaning &amp; Household</td>\n",
       "      <td>Bins &amp; Bathroom Ware</td>\n",
       "      <td>Nakoda</td>\n",
       "      <td>149.0</td>\n",
       "      <td>176.0</td>\n",
       "      <td>Laundry, Storage Baskets</td>\n",
       "      <td>3.7</td>\n",
       "      <td>Multipurpose container with an attractive desi...</td>\n",
       "    </tr>\n",
       "    <tr>\n",
       "      <th>4</th>\n",
       "      <td>5</td>\n",
       "      <td>Creme Soft Soap - For Hands &amp; Body</td>\n",
       "      <td>Beauty &amp; Hygiene</td>\n",
       "      <td>Bath &amp; Hand Wash</td>\n",
       "      <td>Nivea</td>\n",
       "      <td>162.0</td>\n",
       "      <td>162.0</td>\n",
       "      <td>Bathing Bars &amp; Soaps</td>\n",
       "      <td>4.4</td>\n",
       "      <td>Nivea Creme Soft Soap gives your skin the best...</td>\n",
       "    </tr>\n",
       "    <tr>\n",
       "      <th>5</th>\n",
       "      <td>6</td>\n",
       "      <td>Germ - Removal Multipurpose Wipes</td>\n",
       "      <td>Cleaning &amp; Household</td>\n",
       "      <td>All Purpose Cleaners</td>\n",
       "      <td>Nature Protect</td>\n",
       "      <td>169.0</td>\n",
       "      <td>199.0</td>\n",
       "      <td>Disinfectant Spray &amp; Cleaners</td>\n",
       "      <td>3.3</td>\n",
       "      <td>Stay protected from contamination with Multipu...</td>\n",
       "    </tr>\n",
       "    <tr>\n",
       "      <th>6</th>\n",
       "      <td>7</td>\n",
       "      <td>Multani Mati</td>\n",
       "      <td>Beauty &amp; Hygiene</td>\n",
       "      <td>Skin Care</td>\n",
       "      <td>Satinance</td>\n",
       "      <td>58.0</td>\n",
       "      <td>58.0</td>\n",
       "      <td>Face Care</td>\n",
       "      <td>3.6</td>\n",
       "      <td>Satinance multani matti is an excellent skin t...</td>\n",
       "    </tr>\n",
       "    <tr>\n",
       "      <th>7</th>\n",
       "      <td>8</td>\n",
       "      <td>Hand Sanitizer - 70% Alcohol Base</td>\n",
       "      <td>Beauty &amp; Hygiene</td>\n",
       "      <td>Bath &amp; Hand Wash</td>\n",
       "      <td>Bionova</td>\n",
       "      <td>250.0</td>\n",
       "      <td>250.0</td>\n",
       "      <td>Hand Wash &amp; Sanitizers</td>\n",
       "      <td>4.0</td>\n",
       "      <td>70%Alcohol based is gentle of hand leaves skin...</td>\n",
       "    </tr>\n",
       "    <tr>\n",
       "      <th>8</th>\n",
       "      <td>9</td>\n",
       "      <td>Biotin &amp; Collagen Volumizing Hair Shampoo + Bi...</td>\n",
       "      <td>Beauty &amp; Hygiene</td>\n",
       "      <td>Hair Care</td>\n",
       "      <td>StBotanica</td>\n",
       "      <td>1098.0</td>\n",
       "      <td>1098.0</td>\n",
       "      <td>Shampoo &amp; Conditioner</td>\n",
       "      <td>3.5</td>\n",
       "      <td>An exclusive blend with Vitamin B7 Biotin, Hyd...</td>\n",
       "    </tr>\n",
       "    <tr>\n",
       "      <th>9</th>\n",
       "      <td>10</td>\n",
       "      <td>Scrub Pad - Anti- Bacterial, Regular</td>\n",
       "      <td>Cleaning &amp; Household</td>\n",
       "      <td>Mops, Brushes &amp; Scrubs</td>\n",
       "      <td>Scotch brite</td>\n",
       "      <td>20.0</td>\n",
       "      <td>20.0</td>\n",
       "      <td>Utensil Scrub-Pad, Glove</td>\n",
       "      <td>4.3</td>\n",
       "      <td>Scotch Brite Anti- Bacterial Scrub Pad thoroug...</td>\n",
       "    </tr>\n",
       "    <tr>\n",
       "      <th>10</th>\n",
       "      <td>11</td>\n",
       "      <td>Wheat Grass Powder - Raw</td>\n",
       "      <td>Gourmet &amp; World Food</td>\n",
       "      <td>Cooking &amp; Baking Needs</td>\n",
       "      <td>NUTRASHIL</td>\n",
       "      <td>261.0</td>\n",
       "      <td>290.0</td>\n",
       "      <td>Flours &amp; Pre-Mixes</td>\n",
       "      <td>4.0</td>\n",
       "      <td>Wheatgrass is a superfood potent health food w...</td>\n",
       "    </tr>\n",
       "    <tr>\n",
       "      <th>11</th>\n",
       "      <td>12</td>\n",
       "      <td>Butter Cookies Gold Collection</td>\n",
       "      <td>Gourmet &amp; World Food</td>\n",
       "      <td>Chocolates &amp; Biscuits</td>\n",
       "      <td>Sapphire</td>\n",
       "      <td>600.0</td>\n",
       "      <td>600.0</td>\n",
       "      <td>Luxury Chocolates, Gifts</td>\n",
       "      <td>2.2</td>\n",
       "      <td>Enjoy a tin full of delicious butter cookies m...</td>\n",
       "    </tr>\n",
       "  </tbody>\n",
       "</table>\n",
       "</div>"
      ],
      "text/plain": [
       "    index                                            product  \\\n",
       "0       1             Garlic Oil - Vegetarian Capsule 500 mg   \n",
       "1       2                              Water Bottle - Orange   \n",
       "2       3                     Brass Angle Deep - Plain, No.2   \n",
       "3       4  Cereal Flip Lid Container/Storage Jar - Assort...   \n",
       "4       5                 Creme Soft Soap - For Hands & Body   \n",
       "5       6                  Germ - Removal Multipurpose Wipes   \n",
       "6       7                                       Multani Mati   \n",
       "7       8                  Hand Sanitizer - 70% Alcohol Base   \n",
       "8       9  Biotin & Collagen Volumizing Hair Shampoo + Bi...   \n",
       "9      10               Scrub Pad - Anti- Bacterial, Regular   \n",
       "10     11                           Wheat Grass Powder - Raw   \n",
       "11     12                     Butter Cookies Gold Collection   \n",
       "\n",
       "                  category            sub_category              brand  \\\n",
       "0         Beauty & Hygiene               Hair Care  Sri Sri Ayurveda    \n",
       "1   Kitchen, Garden & Pets   Storage & Accessories         Mastercook   \n",
       "2     Cleaning & Household             Pooja Needs                Trm   \n",
       "3     Cleaning & Household    Bins & Bathroom Ware             Nakoda   \n",
       "4         Beauty & Hygiene        Bath & Hand Wash              Nivea   \n",
       "5     Cleaning & Household    All Purpose Cleaners     Nature Protect   \n",
       "6         Beauty & Hygiene               Skin Care          Satinance   \n",
       "7         Beauty & Hygiene        Bath & Hand Wash            Bionova   \n",
       "8         Beauty & Hygiene               Hair Care         StBotanica   \n",
       "9     Cleaning & Household  Mops, Brushes & Scrubs       Scotch brite   \n",
       "10    Gourmet & World Food  Cooking & Baking Needs          NUTRASHIL   \n",
       "11    Gourmet & World Food   Chocolates & Biscuits           Sapphire   \n",
       "\n",
       "    sale_price  market_price                           type  rating  \\\n",
       "0        220.0         220.0               Hair Oil & Serum     4.1   \n",
       "1        180.0         180.0         Water & Fridge Bottles     2.3   \n",
       "2        119.0         250.0                Lamp & Lamp Oil     3.4   \n",
       "3        149.0         176.0       Laundry, Storage Baskets     3.7   \n",
       "4        162.0         162.0           Bathing Bars & Soaps     4.4   \n",
       "5        169.0         199.0  Disinfectant Spray & Cleaners     3.3   \n",
       "6         58.0          58.0                      Face Care     3.6   \n",
       "7        250.0         250.0         Hand Wash & Sanitizers     4.0   \n",
       "8       1098.0        1098.0          Shampoo & Conditioner     3.5   \n",
       "9         20.0          20.0       Utensil Scrub-Pad, Glove     4.3   \n",
       "10       261.0         290.0             Flours & Pre-Mixes     4.0   \n",
       "11       600.0         600.0       Luxury Chocolates, Gifts     2.2   \n",
       "\n",
       "                                          description  \n",
       "0   This Product contains Garlic Oil that is known...  \n",
       "1   Each product is microwave safe (without lid), ...  \n",
       "2   A perfect gift for all occasions, be it your m...  \n",
       "3   Multipurpose container with an attractive desi...  \n",
       "4   Nivea Creme Soft Soap gives your skin the best...  \n",
       "5   Stay protected from contamination with Multipu...  \n",
       "6   Satinance multani matti is an excellent skin t...  \n",
       "7   70%Alcohol based is gentle of hand leaves skin...  \n",
       "8   An exclusive blend with Vitamin B7 Biotin, Hyd...  \n",
       "9   Scotch Brite Anti- Bacterial Scrub Pad thoroug...  \n",
       "10  Wheatgrass is a superfood potent health food w...  \n",
       "11  Enjoy a tin full of delicious butter cookies m...  "
      ]
     },
     "execution_count": 4,
     "metadata": {},
     "output_type": "execute_result"
    }
   ],
   "source": [
    "df.head(12)"
   ]
  },
  {
   "cell_type": "code",
   "execution_count": 5,
   "id": "cc355239-efaa-462c-a1fb-9df2a92924a8",
   "metadata": {},
   "outputs": [
    {
     "data": {
      "text/html": [
       "<div>\n",
       "<style scoped>\n",
       "    .dataframe tbody tr th:only-of-type {\n",
       "        vertical-align: middle;\n",
       "    }\n",
       "\n",
       "    .dataframe tbody tr th {\n",
       "        vertical-align: top;\n",
       "    }\n",
       "\n",
       "    .dataframe thead th {\n",
       "        text-align: right;\n",
       "    }\n",
       "</style>\n",
       "<table border=\"1\" class=\"dataframe\">\n",
       "  <thead>\n",
       "    <tr style=\"text-align: right;\">\n",
       "      <th></th>\n",
       "      <th>index</th>\n",
       "      <th>sale_price</th>\n",
       "      <th>market_price</th>\n",
       "      <th>rating</th>\n",
       "    </tr>\n",
       "  </thead>\n",
       "  <tbody>\n",
       "    <tr>\n",
       "      <th>count</th>\n",
       "      <td>27555.00000</td>\n",
       "      <td>27549.000000</td>\n",
       "      <td>27555.000000</td>\n",
       "      <td>18919.000000</td>\n",
       "    </tr>\n",
       "    <tr>\n",
       "      <th>mean</th>\n",
       "      <td>13778.00000</td>\n",
       "      <td>334.648391</td>\n",
       "      <td>382.056664</td>\n",
       "      <td>3.943295</td>\n",
       "    </tr>\n",
       "    <tr>\n",
       "      <th>std</th>\n",
       "      <td>7954.58767</td>\n",
       "      <td>1202.102113</td>\n",
       "      <td>581.730717</td>\n",
       "      <td>0.739217</td>\n",
       "    </tr>\n",
       "    <tr>\n",
       "      <th>min</th>\n",
       "      <td>1.00000</td>\n",
       "      <td>2.450000</td>\n",
       "      <td>3.000000</td>\n",
       "      <td>1.000000</td>\n",
       "    </tr>\n",
       "    <tr>\n",
       "      <th>25%</th>\n",
       "      <td>6889.50000</td>\n",
       "      <td>95.000000</td>\n",
       "      <td>100.000000</td>\n",
       "      <td>3.700000</td>\n",
       "    </tr>\n",
       "    <tr>\n",
       "      <th>50%</th>\n",
       "      <td>13778.00000</td>\n",
       "      <td>190.320000</td>\n",
       "      <td>220.000000</td>\n",
       "      <td>4.100000</td>\n",
       "    </tr>\n",
       "    <tr>\n",
       "      <th>75%</th>\n",
       "      <td>20666.50000</td>\n",
       "      <td>359.000000</td>\n",
       "      <td>425.000000</td>\n",
       "      <td>4.300000</td>\n",
       "    </tr>\n",
       "    <tr>\n",
       "      <th>max</th>\n",
       "      <td>27555.00000</td>\n",
       "      <td>112475.000000</td>\n",
       "      <td>12500.000000</td>\n",
       "      <td>5.000000</td>\n",
       "    </tr>\n",
       "  </tbody>\n",
       "</table>\n",
       "</div>"
      ],
      "text/plain": [
       "             index     sale_price  market_price        rating\n",
       "count  27555.00000   27549.000000  27555.000000  18919.000000\n",
       "mean   13778.00000     334.648391    382.056664      3.943295\n",
       "std     7954.58767    1202.102113    581.730717      0.739217\n",
       "min        1.00000       2.450000      3.000000      1.000000\n",
       "25%     6889.50000      95.000000    100.000000      3.700000\n",
       "50%    13778.00000     190.320000    220.000000      4.100000\n",
       "75%    20666.50000     359.000000    425.000000      4.300000\n",
       "max    27555.00000  112475.000000  12500.000000      5.000000"
      ]
     },
     "execution_count": 5,
     "metadata": {},
     "output_type": "execute_result"
    }
   ],
   "source": [
    "df.describe()"
   ]
  },
  {
   "cell_type": "code",
   "execution_count": 6,
   "id": "647f9ec8-cb31-48ca-a978-b12e9eecb2da",
   "metadata": {},
   "outputs": [
    {
     "name": "stdout",
     "output_type": "stream",
     "text": [
      "<class 'pandas.core.frame.DataFrame'>\n",
      "RangeIndex: 27555 entries, 0 to 27554\n",
      "Data columns (total 10 columns):\n",
      " #   Column        Non-Null Count  Dtype  \n",
      "---  ------        --------------  -----  \n",
      " 0   index         27555 non-null  int64  \n",
      " 1   product       27554 non-null  object \n",
      " 2   category      27555 non-null  object \n",
      " 3   sub_category  27555 non-null  object \n",
      " 4   brand         27554 non-null  object \n",
      " 5   sale_price    27549 non-null  float64\n",
      " 6   market_price  27555 non-null  float64\n",
      " 7   type          27555 non-null  object \n",
      " 8   rating        18919 non-null  float64\n",
      " 9   description   27440 non-null  object \n",
      "dtypes: float64(3), int64(1), object(6)\n",
      "memory usage: 2.1+ MB\n"
     ]
    }
   ],
   "source": [
    "df.info()"
   ]
  },
  {
   "cell_type": "code",
   "execution_count": 7,
   "id": "ed3deb62-a3dd-48a8-a2ce-64faf8ce4da6",
   "metadata": {},
   "outputs": [],
   "source": [
    "top_sold = df['product'].value_counts().head(1)\n",
    "least_sold = df['product'].value_counts().tail(1)"
   ]
  },
  {
   "cell_type": "code",
   "execution_count": 8,
   "id": "d11292a2-3714-4bdd-9ab5-8c3c737dbd8c",
   "metadata": {},
   "outputs": [
    {
     "name": "stdout",
     "output_type": "stream",
     "text": [
      "Top sold product:\n",
      " product\n",
      "Turmeric Powder/Arisina Pudi    26\n",
      "Name: count, dtype: int64\n",
      "Least sold product:\n",
      " product\n",
      "Water Bottle - Orange    1\n",
      "Name: count, dtype: int64\n"
     ]
    }
   ],
   "source": [
    "print('Top sold product:\\n', top_sold)\n",
    "print('Least sold product:\\n', least_sold)"
   ]
  },
  {
   "cell_type": "code",
   "execution_count": 17,
   "id": "84404c39-7c6c-4a10-b763-c75f65338ca4",
   "metadata": {},
   "outputs": [
    {
     "data": {
      "image/png": "[encoded data removed]",
      "text/plain": [
       "<Figure size 640x480 with 1 Axes>"
      ]
     },
     "metadata": {},
     "output_type": "display_data"
    }
   ],
   "source": [
    "combin = pd.concat([top_sold, least_sold])\n",
    "combin.plot(kind='bar', color=['green', 'red'])\n",
    "plt.title('Top and Least Sold Products')\n",
    "plt.ylabel('Number of Sales')\n",
    "plt.xlabel('Product')\n",
    "plt.xticks(rotation=0)\n",
    "plt.tight_layout()\n",
    "plt.show()"
   ]
  },
  {
   "cell_type": "code",
   "execution_count": 20,
   "id": "51f495a1-1035-4aef-ba99-4e69c12a9985",
   "metadata": {},
   "outputs": [
    {
     "data": {
      "image/png": "[encoded data removed]",
      "text/plain": [
       "<Figure size 640x480 with 1 Axes>"
      ]
     },
     "metadata": {},
     "output_type": "display_data"
    }
   ],
   "source": [
    "df['discount'] = df['market_price'] - df['sale_price']\n",
    "\n",
    "plt.hist(df['discount'].dropna(), bins=30, color='skyblue', edgecolor='black')\n",
    "plt.title('Distribution of Discounts')\n",
    "plt.xlabel('Discount Amount')\n",
    "plt.ylabel('Number of Products')\n",
    "plt.tight_layout()\n",
    "plt.show()"
   ]
  },
  {
   "cell_type": "code",
   "execution_count": 21,
   "id": "68555167-4173-453c-9dbe-65a027c7c9ce",
   "metadata": {},
   "outputs": [
    {
     "data": {
      "text/plain": [
       "index              0\n",
       "product            1\n",
       "category           0\n",
       "sub_category       0\n",
       "brand              1\n",
       "sale_price         6\n",
       "market_price       0\n",
       "type               0\n",
       "rating          8636\n",
       "description      115\n",
       "discount           6\n",
       "dtype: int64"
      ]
     },
     "execution_count": 21,
     "metadata": {},
     "output_type": "execute_result"
    }
   ],
   "source": [
    "df.isna().sum()"
   ]
  },
  {
   "cell_type": "code",
   "execution_count": 22,
   "id": "4a6b9df8-2f6a-425c-908d-c372f85ef913",
   "metadata": {},
   "outputs": [
    {
     "data": {
      "text/plain": [
       "index            0.000000\n",
       "product          0.003629\n",
       "category         0.000000\n",
       "sub_category     0.000000\n",
       "brand            0.003629\n",
       "sale_price       0.021775\n",
       "market_price     0.000000\n",
       "type             0.000000\n",
       "rating          31.340954\n",
       "description      0.417347\n",
       "discount         0.021775\n",
       "dtype: float64"
      ]
     },
     "execution_count": 22,
     "metadata": {},
     "output_type": "execute_result"
    }
   ],
   "source": [
    "df.isna().mean()*100"
   ]
  },
  {
   "cell_type": "code",
   "execution_count": 23,
   "id": "01b52fe3-8a1e-4a17-9361-aabaa33d346c",
   "metadata": {},
   "outputs": [],
   "source": [
    "import statistics\n",
    "numerical_columns = ['sale_price', 'market_price', 'rating']\n",
    "\n",
    "for col in numerical_columns:\n",
    "    Q1 = df[col].quantile(0.25)\n",
    "    Q3 = df[col].quantile(0.75)\n",
    "    IQR = Q3 - Q1\n",
    "    lower_bound = Q1 - 1.5 * IQR\n",
    "    upper_bound = Q3 + 1.5 * IQR\n",
    "    mean_value = df[(df[col] >= lower_bound) & (df[col] <= upper_bound)][col].mean()\n",
    "    df[col] = df[col].apply(lambda x: mean_value if x < lower_bound or x > upper_bound else x)\n",
    "\n",
    "df.to_csv('cleaned_dataset.csv', index=False)"
   ]
  },
  {
   "cell_type": "code",
   "execution_count": 25,
   "id": "635a5f00-5f4f-4bd6-a2ca-8d632cc6bf6c",
   "metadata": {},
   "outputs": [
    {
     "name": "stdout",
     "output_type": "stream",
     "text": [
      "   index                                            product  \\\n",
      "0      1             Garlic Oil - Vegetarian Capsule 500 mg   \n",
      "1      2                              Water Bottle - Orange   \n",
      "2      3                     Brass Angle Deep - Plain, No.2   \n",
      "3      4  Cereal Flip Lid Container/Storage Jar - Assort...   \n",
      "4      5                 Creme Soft Soap - For Hands & Body   \n",
      "\n",
      "                 category           sub_category              brand  \\\n",
      "0        Beauty & Hygiene              Hair Care  Sri Sri Ayurveda    \n",
      "1  Kitchen, Garden & Pets  Storage & Accessories         Mastercook   \n",
      "2    Cleaning & Household            Pooja Needs                Trm   \n",
      "3    Cleaning & Household   Bins & Bathroom Ware             Nakoda   \n",
      "4        Beauty & Hygiene       Bath & Hand Wash              Nivea   \n",
      "\n",
      "   sale_price  market_price                      type  rating  \\\n",
      "0       220.0         220.0          Hair Oil & Serum     4.1   \n",
      "1       180.0         180.0    Water & Fridge Bottles     2.3   \n",
      "2       119.0         250.0           Lamp & Lamp Oil     3.4   \n",
      "3       149.0         176.0  Laundry, Storage Baskets     3.7   \n",
      "4       162.0         162.0      Bathing Bars & Soaps     4.4   \n",
      "\n",
      "                                         description  discount  \n",
      "0  This Product contains Garlic Oil that is known...       0.0  \n",
      "1  Each product is microwave safe (without lid), ...       0.0  \n",
      "2  A perfect gift for all occasions, be it your m...     131.0  \n",
      "3  Multipurpose container with an attractive desi...      27.0  \n",
      "4  Nivea Creme Soft Soap gives your skin the best...       0.0  \n"
     ]
    }
   ],
   "source": [
    "print(df.head())"
   ]
  },
  {
   "cell_type": "code",
   "execution_count": 27,
   "id": "c5ac4bd3-b8d8-4b01-ba52-c53529b3bd05",
   "metadata": {},
   "outputs": [
    {
     "data": {
      "image/png": "[encoded data removed]",
      "text/plain": [
       "<Figure size 640x480 with 1 Axes>"
      ]
     },
     "metadata": {},
     "output_type": "display_data"
    }
   ],
   "source": [
    "sns.boxplot(data=df)\n",
    "plt.title(\"Boxplot of Cleaned Dataset\")\n",
    "plt.xticks(rotation=0)\n",
    "plt.tight_layout()\n",
    "plt.show()"
   ]
  }
 ],
 "metadata": {
  "kernelspec": {
   "display_name": "Python 3 (ipykernel)",
   "language": "python",
   "name": "python3"
  },
  "language_info": {
   "codemirror_mode": {
    "name": "ipython",
    "version": 3
   },
   "file_extension": ".py",
   "mimetype": "text/x-python",
   "name": "python",
   "nbconvert_exporter": "python",
   "pygments_lexer": "ipython3",
   "version": "3.13.5"
  },
  "panel-cell-order": [
   "3e4c82a6-6e0c-4287-8c11-7953fc3d3464",
   "c1396f4b-01c7-4f48-9ccb-358e1ca36f23",
   "4a6eb183-5c7e-4e67-a2a5-c153ae0592f8",
   "cf7f5b8e-5c31-493f-bd4b-262e06a3484c",
   "28186d34-1b08-4e72-8f4f-cadc14e5b832",
   "9a4d4003-f66e-4cd9-8cd5-f86d6f807b7c",
   "80770c47-c0f4-414b-9779-e6b373db99a0",
   "7d8c0030-d74a-4482-b3c2-2785edaea850",
   "03dca333-6944-44aa-a149-b4fb5b8a3b94",
   "74732ed0-b15b-4d6a-8bbf-8f6ab44681ff"
  ]
 },
 "nbformat": 4,
 "nbformat_minor": 5
}
